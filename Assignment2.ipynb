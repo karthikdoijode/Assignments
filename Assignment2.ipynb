{
 "cells": [
  {
   "cell_type": "markdown",
   "id": "8486e038",
   "metadata": {},
   "source": [
    "# 1.\n",
    "- Two values of Boolean data type are True and False\n",
    "- we write it as True without any quotes around it and starting letter should be capital\n"
   ]
  },
  {
   "cell_type": "markdown",
   "id": "308a70fc",
   "metadata": {},
   "source": [
    "# 2.\n",
    "- Three different types of Boolean operators are\n",
    "- and operator\n",
    "- or operator\n",
    "- not operator"
   ]
  },
  {
   "cell_type": "markdown",
   "id": "b8db0a67",
   "metadata": {},
   "source": [
    "# 3.\n",
    "##### and operator truth table(its like multiplication in bits)\n",
    "- 0 and 0 --- 0\n",
    "- 0 and 1 --- 0\n",
    "- 1 and 0 --- 0\n",
    "- 1 and 1 --- 1\n",
    "\n",
    "##### or operator truth table(its like addition in bits)\n",
    "- 0 or 0 --- 0\n",
    "- 0 or 1 --- 1\n",
    "- 1 or 0 --- 1\n",
    "- 1 or 1 --- 1\n",
    "\n",
    "##### not operator truth table(it work with the single boolean value)\n",
    "- not True--- False\n",
    "- not False-- True"
   ]
  },
  {
   "cell_type": "markdown",
   "id": "88c496fc",
   "metadata": {},
   "source": [
    "# 4.\n",
    "- (5>4) and(3==5)---False \n",
    "- (here find condition is True,second is False..so its like 1 and 0 evaluates to 0 i.e False)\n",
    "- not (5>4)--- False\n",
    "- (here condition is True,after applying not operator it becomes False)\n",
    "- not((5>4) or (3==5))---False\n",
    "- (here condition becomes True or False which gives True...after applying not it becomes False)\n",
    "- (True and True) or (not True)---True \n",
    "- (here 1 and 1 evaluates to True, not True evaluates to False...after applying True or False..gives True )\n",
    "- (not False) or (not True) --- True\n",
    "- (not False is True and not True is False..therefore True or False gives True)"
   ]
  },
  {
   "cell_type": "markdown",
   "id": "ecbd1409",
   "metadata": {},
   "source": [
    "# 5.Comparision operators:"
   ]
  },
  {
   "cell_type": "code",
   "execution_count": null,
   "id": "c43e473b",
   "metadata": {},
   "outputs": [],
   "source": [
    "> (greater than)\n",
    "< (lesser than)\n",
    "= (equal to)\n",
    "!=(not equal to)\n",
    ">=(greater than or equal to)\n",
    "<=(lesser than or equal to)"
   ]
  },
  {
   "cell_type": "markdown",
   "id": "a40dd601",
   "metadata": {},
   "source": [
    "# 6.\n",
    "- equal to(==) is a comparision operator.It is used to check if both the values are equal or not\n",
    "- assignment(=) is an assignment operator.It simply assigns the value on the right to the variable to the left"
   ]
  },
  {
   "cell_type": "code",
   "execution_count": 14,
   "id": "1dba67d3",
   "metadata": {},
   "outputs": [
    {
     "data": {
      "text/plain": [
       "False"
      ]
     },
     "execution_count": 14,
     "metadata": {},
     "output_type": "execute_result"
    }
   ],
   "source": [
    "a=10\n",
    "b=20\n",
    "a == b # here we are comparing 2 operands using equal to(==)\n",
    "# output is False because a is not equal to b"
   ]
  },
  {
   "cell_type": "code",
   "execution_count": 15,
   "id": "7136b458",
   "metadata": {},
   "outputs": [],
   "source": [
    "a=10"
   ]
  },
  {
   "cell_type": "code",
   "execution_count": 16,
   "id": "8c4b1187",
   "metadata": {},
   "outputs": [
    {
     "data": {
      "text/plain": [
       "10"
      ]
     },
     "execution_count": 16,
     "metadata": {},
     "output_type": "execute_result"
    }
   ],
   "source": [
    "a # here we just assign the value on the right to the variable on the left"
   ]
  },
  {
   "cell_type": "markdown",
   "id": "a0f3d902",
   "metadata": {},
   "source": [
    "# 7."
   ]
  },
  {
   "cell_type": "code",
   "execution_count": 17,
   "id": "9b0c04c8",
   "metadata": {},
   "outputs": [
    {
     "name": "stdout",
     "output_type": "stream",
     "text": [
      "ham\n",
      "spam\n",
      "spam\n"
     ]
    }
   ],
   "source": [
    "spam=0\n",
    "if spam==10:\n",
    "    print('eggs')\n",
    "if spam>5:\n",
    "    print('bacon')\n",
    "else:\n",
    "    print('ham')\n",
    "    print('spam')\n",
    "    print('spam') \n",
    "#code explanation- here spam is assigned to 0\n",
    "#first it checks with if block whether it is equal to 10\n",
    "# if not checks with another if block,whether it is greater than 5\n",
    "# if not,control goes to else block where it executes all the statements in the else block one after one"
   ]
  },
  {
   "cell_type": "markdown",
   "id": "40b66d36",
   "metadata": {},
   "source": [
    "# 8."
   ]
  },
  {
   "cell_type": "code",
   "execution_count": 1,
   "id": "bbfb4a93",
   "metadata": {},
   "outputs": [
    {
     "name": "stdout",
     "output_type": "stream",
     "text": [
      "enter what we want to store in spam: 1\n",
      "Hello\n"
     ]
    }
   ],
   "source": [
    "spam=int(input('enter what we want to store in spam: '))\n",
    "if spam==1:\n",
    "    print('Hello')\n",
    "elif spam==2:\n",
    "    print('Howdy')\n",
    "else:\n",
    "    print('Greetings!')"
   ]
  },
  {
   "cell_type": "markdown",
   "id": "d0a6e832",
   "metadata": {},
   "source": [
    "# 9.\n",
    "- ctrl + c"
   ]
  },
  {
   "cell_type": "markdown",
   "id": "106d7b0b",
   "metadata": {},
   "source": [
    "# 10.\n",
    "- break - is used to terminate the loop when a specified condition is met,and thus controls comes out of loop..where the break statement is defined\n",
    "- continue- is used to skip the condition where continue statement is defined, it skips back to beginning of loop by skipping that specified condition when met"
   ]
  },
  {
   "cell_type": "markdown",
   "id": "3e0bd4d9",
   "metadata": {},
   "source": [
    "# 11.\n",
    "- in a for loop:\n",
    "- range(10)-- provides immutable sequence of numbers starts from 0 by default and ends at 10(exclusive 10.i.e upto 9)\n",
    "- range(0,10)-- provides immutable sequence of numbers from starting point 0 to 9(10 exclusive)\n",
    "- range(0,10,1)-- provides immutable sequence of numbers from starting point 0 to 9(10 exclusive) with a step size of 1"
   ]
  },
  {
   "cell_type": "markdown",
   "id": "fae4d7b5",
   "metadata": {},
   "source": [
    "# 12."
   ]
  },
  {
   "cell_type": "code",
   "execution_count": 8,
   "id": "c07b2c87",
   "metadata": {},
   "outputs": [
    {
     "name": "stdout",
     "output_type": "stream",
     "text": [
      "1\n",
      "2\n",
      "3\n",
      "4\n",
      "5\n",
      "6\n",
      "7\n",
      "8\n",
      "9\n",
      "10\n"
     ]
    }
   ],
   "source": [
    "#using for loop\n",
    "for i in range(1,11):\n",
    "    print(i)"
   ]
  },
  {
   "cell_type": "code",
   "execution_count": 9,
   "id": "d3418477",
   "metadata": {},
   "outputs": [
    {
     "name": "stdout",
     "output_type": "stream",
     "text": [
      "1\n",
      "2\n",
      "3\n",
      "4\n",
      "5\n",
      "6\n",
      "7\n",
      "8\n",
      "9\n",
      "10\n"
     ]
    }
   ],
   "source": [
    "# using while loop\n",
    "i=1\n",
    "while i<11:\n",
    "    print(i)\n",
    "    i=i+1"
   ]
  },
  {
   "cell_type": "markdown",
   "id": "39e86246",
   "metadata": {},
   "source": [
    "# 13.\n",
    "- simply by calling function name bacon() after importing\n",
    "- (not sure of my answer, pls correct me.. if im wrong)"
   ]
  },
  {
   "cell_type": "code",
   "execution_count": null,
   "id": "6e10b965",
   "metadata": {},
   "outputs": [],
   "source": []
  }
 ],
 "metadata": {
  "kernelspec": {
   "display_name": "Python 3",
   "language": "python",
   "name": "python3"
  },
  "language_info": {
   "codemirror_mode": {
    "name": "ipython",
    "version": 3
   },
   "file_extension": ".py",
   "mimetype": "text/x-python",
   "name": "python",
   "nbconvert_exporter": "python",
   "pygments_lexer": "ipython3",
   "version": "3.8.5"
  }
 },
 "nbformat": 4,
 "nbformat_minor": 5
}
