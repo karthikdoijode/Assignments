{
 "cells": [
  {
   "cell_type": "markdown",
   "id": "4f59d135",
   "metadata": {},
   "source": [
    "### 1.question\n",
    "- values - 'hello', -87.8, 6\n",
    "- expression - *, - ,/, +"
   ]
  },
  {
   "cell_type": "markdown",
   "id": "c77b7425",
   "metadata": {},
   "source": [
    "### 2.\n",
    "- variable - is a piece of memory to store data\n",
    "- strings - is a data structure which stores sequence of characters enclosed within single or double quotes"
   ]
  },
  {
   "cell_type": "markdown",
   "id": "24551a73",
   "metadata": {},
   "source": [
    "### 3.\n",
    "- float - used to represent decimal value\n",
    "- bool - used to represent boolean values such as True or False\n",
    "- complex - used to represent complex numbers which has a real and imaginary part"
   ]
  },
  {
   "cell_type": "markdown",
   "id": "1de57b96",
   "metadata": {},
   "source": [
    "### 4.\n",
    "- Expression made up of values and operators\n",
    "- Expressions can do various operations like addition,subtraction,multiplication,division etc"
   ]
  },
  {
   "cell_type": "markdown",
   "id": "b07920aa",
   "metadata": {},
   "source": [
    "### 5.\n",
    "- expression is used to carry out some operations as per their operators and evaluates to a single value\n",
    "- Whereas, Statement represents an action or command like print statement, assignment statement"
   ]
  },
  {
   "cell_type": "markdown",
   "id": "89a87bea",
   "metadata": {},
   "source": [
    "### 6."
   ]
  },
  {
   "cell_type": "code",
   "execution_count": 2,
   "id": "f9972d34",
   "metadata": {},
   "outputs": [
    {
     "data": {
      "text/plain": [
       "23"
      ]
     },
     "execution_count": 2,
     "metadata": {},
     "output_type": "execute_result"
    }
   ],
   "source": [
    "bacon=22\n",
    "bacon+1"
   ]
  },
  {
   "cell_type": "code",
   "execution_count": 5,
   "id": "f5e0ce15",
   "metadata": {},
   "outputs": [
    {
     "data": {
      "text/plain": [
       "22"
      ]
     },
     "execution_count": 5,
     "metadata": {},
     "output_type": "execute_result"
    }
   ],
   "source": [
    "bacon   # bacon contains 22 only, because we didn't assigned it to any variable. we just increment the assigned value"
   ]
  },
  {
   "cell_type": "markdown",
   "id": "99209ffc",
   "metadata": {},
   "source": [
    "### 7."
   ]
  },
  {
   "cell_type": "code",
   "execution_count": 6,
   "id": "d3fcbedc",
   "metadata": {},
   "outputs": [
    {
     "data": {
      "text/plain": [
       "'spamspamspam'"
      ]
     },
     "execution_count": 6,
     "metadata": {},
     "output_type": "execute_result"
    }
   ],
   "source": [
    "'spam'+'spamspam'  # here we are concatenating 2 strings"
   ]
  },
  {
   "cell_type": "code",
   "execution_count": 7,
   "id": "fee9f461",
   "metadata": {},
   "outputs": [
    {
     "data": {
      "text/plain": [
       "'spamspamspam'"
      ]
     },
     "execution_count": 7,
     "metadata": {},
     "output_type": "execute_result"
    }
   ],
   "source": [
    "'spam'*3 # here we multiplying spam string into 3 times..so both are same"
   ]
  },
  {
   "cell_type": "markdown",
   "id": "1cd49463",
   "metadata": {},
   "source": [
    "### 8.\n",
    "- eggs - is a valid variable, because it starts with an alphabet. we know that variable should only have alphabets or underscore at the first character and can be followed by any number of alphabets or digits or underscore\n",
    "- 100 - is invalid variable,because it starts with an number"
   ]
  },
  {
   "cell_type": "markdown",
   "id": "eb9c3459",
   "metadata": {},
   "source": [
    "### 9.\n",
    "- int() - to get integer\n",
    "- float()- to get floating-point number\n",
    "- str()- to get a string version of a value"
   ]
  },
  {
   "cell_type": "markdown",
   "id": "2b3d8b37",
   "metadata": {},
   "source": [
    "### 10.\n",
    "- 'i have eaten'+99+'burritos'--here we are concatenating strings with integer which is not supported\n",
    "- we can fix this by typecasting 99 into string like below\n",
    "- 'i have eaten'+str(99)+'burritos'"
   ]
  },
  {
   "cell_type": "code",
   "execution_count": null,
   "id": "53f9a043",
   "metadata": {},
   "outputs": [],
   "source": []
  }
 ],
 "metadata": {
  "kernelspec": {
   "display_name": "Python 3",
   "language": "python",
   "name": "python3"
  },
  "language_info": {
   "codemirror_mode": {
    "name": "ipython",
    "version": 3
   },
   "file_extension": ".py",
   "mimetype": "text/x-python",
   "name": "python",
   "nbconvert_exporter": "python",
   "pygments_lexer": "ipython3",
   "version": "3.8.5"
  }
 },
 "nbformat": 4,
 "nbformat_minor": 5
}
